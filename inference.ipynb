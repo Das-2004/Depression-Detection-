{
 "cells": [
  {
   "cell_type": "code",
   "execution_count": 1,
   "id": "15dcefbb-1761-4340-a376-3e8f7de590c8",
   "metadata": {},
   "outputs": [
    {
     "name": "stdout",
     "output_type": "stream",
     "text": [
      "Ready to predict.\n"
     ]
    }
   ],
   "source": [
    "#import torch\n",
    "from transformers import BertTokenizer\n",
    "#from bert_rnn_depression_model import BertRNNClassifier \n",
    "\n",
    "import torch\n",
    "import torch.nn as nn\n",
    "from transformers import BertModel\n",
    "\n",
    "# Define the BERT + RNN model\n",
    "class BertRNNClassifier(nn.Module):\n",
    "    def __init__(self, bert_model_name=\"bert-base-uncased\", hidden_dim=256, num_classes=2):\n",
    "        super(BertRNNClassifier, self).__init__()\n",
    "        self.bert = BertModel.from_pretrained(bert_model_name)\n",
    "        self.rnn = nn.RNN(input_size=768, hidden_size=hidden_dim, num_layers=1, batch_first=True)\n",
    "        self.fc = nn.Linear(hidden_dim, num_classes)\n",
    "        self.dropout = nn.Dropout(0.3)\n",
    "        self.softmax = nn.Softmax(dim=1)\n",
    "\n",
    "    def forward(self, input_ids, attention_mask):\n",
    "        with torch.no_grad():\n",
    "            bert_output = self.bert(input_ids=input_ids, attention_mask=attention_mask)\n",
    "        \n",
    "        rnn_out, _ = self.rnn(bert_output.last_hidden_state)\n",
    "        rnn_out = rnn_out[:, -1, :]  # Get the last RNN output\n",
    "        output = self.fc(self.dropout(rnn_out))\n",
    "        return self.softmax(output)\n",
    "        \n",
    "model = BertRNNClassifier()\n",
    "model_path = \"C:/Users/priya/OneDrive/Desktop/Depression detection/bert_rnn_depression_model.pth\" \n",
    "model.load_state_dict(torch.load(model_path, map_location=torch.device('cpu')))\n",
    "\n",
    "# Load model\n",
    "device = torch.device(\"cuda\" if torch.cuda.is_available() else \"cpu\")\n",
    "\n",
    "model.load_state_dict(torch.load(\"bert_rnn_depression_model.pth\", map_location=device))\n",
    "model.eval()  # Set model to evaluation mode\n",
    "\n",
    "# Load tokenizer\n",
    "tokenizer = BertTokenizer.from_pretrained(\"bert-base-uncased\")\n",
    "\n",
    "# Function to predict depression status\n",
    "def predict(text):\n",
    "    inputs = tokenizer(text, padding=\"max_length\", truncation=True, max_length=128, return_tensors=\"pt\")\n",
    "    input_ids, attention_mask = inputs[\"input_ids\"].to(device), inputs[\"attention_mask\"].to(device)\n",
    "\n",
    "    with torch.no_grad():\n",
    "        outputs = model(input_ids, attention_mask)\n",
    "        prediction = torch.argmax(outputs, dim=1).item()\n",
    "\n",
    "    return \"Depressed\" if prediction == 1 else \"Not Depressed\"\n",
    "\n",
    "print(\"Ready to predict.\")\n"
   ]
  },
  {
   "cell_type": "code",
   "execution_count": 3,
   "id": "eddb1aa2-b436-4ff4-bae3-ebbd74fbd891",
   "metadata": {},
   "outputs": [
    {
     "name": "stdin",
     "output_type": "stream",
     "text": [
      "Enter a text to predict :  nothing look forward lifei dont many reasons keep going feel like nothing keeps going next day makes want hang myself\n"
     ]
    },
    {
     "name": "stdout",
     "output_type": "stream",
     "text": [
      "Prediction: Depressed\n"
     ]
    }
   ],
   "source": [
    "text_input = input(\"Enter a text to predict : \")\n",
    "prediction = predict(text_input)\n",
    "print(f\"Prediction: {prediction}\")"
   ]
  },
  {
   "cell_type": "code",
   "execution_count": null,
   "id": "727b3d59-ed36-40f1-b69a-81022f7776b3",
   "metadata": {},
   "outputs": [],
   "source": []
  }
 ],
 "metadata": {
  "kernelspec": {
   "display_name": "Python 3 (ipykernel)",
   "language": "python",
   "name": "python3"
  },
  "language_info": {
   "codemirror_mode": {
    "name": "ipython",
    "version": 3
   },
   "file_extension": ".py",
   "mimetype": "text/x-python",
   "name": "python",
   "nbconvert_exporter": "python",
   "pygments_lexer": "ipython3",
   "version": "3.12.4"
  }
 },
 "nbformat": 4,
 "nbformat_minor": 5
}
